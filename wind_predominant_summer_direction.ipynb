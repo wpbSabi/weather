{
 "cells": [
  {
   "cell_type": "markdown",
   "id": "5f0d5098-0669-4f27-8d13-867b63457546",
   "metadata": {},
   "source": [
    "# Wind\n",
    "In the western United States it is good to understand the predominant wind direction to understand the most likely wildfire risk direction"
   ]
  },
  {
   "cell_type": "code",
   "execution_count": 1,
   "id": "1646b2b4-8f82-4b40-9e7c-dfa27e5c90e0",
   "metadata": {
    "execution": {
     "iopub.execute_input": "2024-06-25T04:19:50.943836Z",
     "iopub.status.busy": "2024-06-25T04:19:50.942960Z",
     "iopub.status.idle": "2024-06-25T04:19:51.397748Z",
     "shell.execute_reply": "2024-06-25T04:19:51.396460Z",
     "shell.execute_reply.started": "2024-06-25T04:19:50.943763Z"
    }
   },
   "outputs": [],
   "source": [
    "import datetime as dt\n",
    "import pandas as pd"
   ]
  },
  {
   "cell_type": "code",
   "execution_count": 2,
   "id": "38cc4282-00be-4077-9794-216609198d1d",
   "metadata": {
    "execution": {
     "iopub.execute_input": "2024-06-25T04:19:51.400793Z",
     "iopub.status.busy": "2024-06-25T04:19:51.399789Z",
     "iopub.status.idle": "2024-06-25T04:19:51.655983Z",
     "shell.execute_reply": "2024-06-25T04:19:51.654398Z",
     "shell.execute_reply.started": "2024-06-25T04:19:51.400729Z"
    }
   },
   "outputs": [],
   "source": [
    "columbia = pd.read_csv('data/wind_columbia_county.csv')\n",
    "clatsop = pd.read_csv('data/wind_clatsop_county.csv')\n",
    "pdx = pd.read_csv('data/wind_pdx.csv')\n",
    "# WSF2 - Fastest 2-minute wind speed\n",
    "# FMTM - Time of fastest mile or fastest 1-minute wind\n",
    "# WDF2 - Direction of fastest 2-minute wind\n",
    "# AWND - Average wind speed\n",
    "# WSF5 - Fastest 5-second wind speed\n",
    "# WDF5 - Direction of fastest 5-second wind\n",
    "# PGTM - Peak gust time\n",
    "\n",
    "# # Data Exploration: Only one of the 33 stations in the Columbia County / Clatsop County data has data\n",
    "# df[~df['WDF2'].isnull()].NAME.unique()\n",
    "clatsop = clatsop[clatsop.reset_index()['NAME']=='ASTORIA AIRPORT PORT OF, OR US'].reset_index(drop=True)\n",
    "columbia = columbia[columbia.reset_index()['NAME']=='SCAPPOOSE INDUSTRIAL AIRPORT, OR US'].reset_index(drop=True)\n",
    "# # df.groupby('WDF2').count().sort_values('STATION', ascending=False)"
   ]
  },
  {
   "cell_type": "code",
   "execution_count": 3,
   "id": "1a20192f-3ddc-44ab-820b-4ba110938d08",
   "metadata": {
    "execution": {
     "iopub.execute_input": "2024-06-25T04:19:51.663525Z",
     "iopub.status.busy": "2024-06-25T04:19:51.662583Z",
     "iopub.status.idle": "2024-06-25T04:19:51.681529Z",
     "shell.execute_reply": "2024-06-25T04:19:51.677141Z",
     "shell.execute_reply.started": "2024-06-25T04:19:51.663465Z"
    }
   },
   "outputs": [],
   "source": [
    "def wind_by_quadrant(df: pd.DataFrame):\n",
    "    \"\"\" 1. Prints the proportion of strongest 2-minute-wind days by quadrant\n",
    "        2. Asserts that the quadrants add up to all of the data points\n",
    "        \n",
    "        https://www.ncei.noaa.gov/pub/data/cdo/documentation/LCD_documentation.pdf\n",
    "        # 360 is blowing from true north\n",
    "        # 270 for blowing from the west\n",
    "        # 180 is blowing from true south\n",
    "        # therefore, 90 is blowing from the east\n",
    "    \"\"\"\n",
    "    # Filter summer wildfire risk months of June, July, August, and September\n",
    "    df['DATE'] = pd.to_datetime(df['DATE'])\n",
    "    summer = df[df.DATE.dt.month.isin([6, 7, 8, 9])]\n",
    "\n",
    "    # Print the proportion of wind direction by quadrant\n",
    "    print(f'From NW: ', round(len(summer[summer.WDF2.between(271, 360)]) / len(summer), 2))\n",
    "    print(f'From SW: ', round(len(summer[summer.WDF2.between(181, 270)]) / len(summer), 2))\n",
    "    print(f'From SE: ', round(len(summer[summer.WDF2.between(91, 180)]) / len(summer), 2))\n",
    "    print(f'From NE: ', round(len(summer[summer.WDF2.between(0, 90)]) / len(summer), 2))\n",
    "    \n",
    "    assert ((len(summer[summer.WDF2.between(271, 360)])\n",
    "     + len(summer[summer.WDF2.between(181, 270)])\n",
    "     + len(summer[summer.WDF2.between(91, 180)])\n",
    "     + len(summer[summer.WDF2.between(0, 90)])\n",
    "     + len(summer[~summer.WDF2.between(0, 360)])) == len(summer))"
   ]
  },
  {
   "cell_type": "code",
   "execution_count": 4,
   "id": "7311c252-8130-4a7c-af6b-58b55c4d1e0f",
   "metadata": {
    "execution": {
     "iopub.execute_input": "2024-06-25T04:19:51.689559Z",
     "iopub.status.busy": "2024-06-25T04:19:51.688593Z",
     "iopub.status.idle": "2024-06-25T04:19:51.740118Z",
     "shell.execute_reply": "2024-06-25T04:19:51.738611Z",
     "shell.execute_reply.started": "2024-06-25T04:19:51.689495Z"
    }
   },
   "outputs": [
    {
     "name": "stdout",
     "output_type": "stream",
     "text": [
      "From NW:  0.72\n",
      "From SW:  0.07\n",
      "From SE:  0.09\n",
      "From NE:  0.12\n"
     ]
    }
   ],
   "source": [
    "wind_by_quadrant(columbia)"
   ]
  },
  {
   "cell_type": "code",
   "execution_count": 5,
   "id": "4516c088-b942-4c00-baaa-f71b5aad937b",
   "metadata": {
    "execution": {
     "iopub.execute_input": "2024-06-25T04:19:51.744945Z",
     "iopub.status.busy": "2024-06-25T04:19:51.743401Z",
     "iopub.status.idle": "2024-06-25T04:19:51.790710Z",
     "shell.execute_reply": "2024-06-25T04:19:51.788700Z",
     "shell.execute_reply.started": "2024-06-25T04:19:51.744752Z"
    }
   },
   "outputs": [
    {
     "name": "stdout",
     "output_type": "stream",
     "text": [
      "From NW:  0.58\n",
      "From SW:  0.39\n",
      "From SE:  0.01\n",
      "From NE:  0.02\n"
     ]
    }
   ],
   "source": [
    "wind_by_quadrant(clatsop)"
   ]
  },
  {
   "cell_type": "code",
   "execution_count": 6,
   "id": "ca97e025-c9ef-43d2-9ed6-b29c7bbd626c",
   "metadata": {
    "execution": {
     "iopub.execute_input": "2024-06-25T04:19:51.797338Z",
     "iopub.status.busy": "2024-06-25T04:19:51.793095Z",
     "iopub.status.idle": "2024-06-25T04:19:51.854254Z",
     "shell.execute_reply": "2024-06-25T04:19:51.848484Z",
     "shell.execute_reply.started": "2024-06-25T04:19:51.797261Z"
    }
   },
   "outputs": [
    {
     "name": "stdout",
     "output_type": "stream",
     "text": [
      "From NW:  0.78\n",
      "From SW:  0.13\n",
      "From SE:  0.04\n",
      "From NE:  0.04\n"
     ]
    }
   ],
   "source": [
    "wind_by_quadrant(pdx)"
   ]
  }
 ],
 "metadata": {
  "kernelspec": {
   "display_name": "Python 3 (ipykernel)",
   "language": "python",
   "name": "python3"
  },
  "language_info": {
   "codemirror_mode": {
    "name": "ipython",
    "version": 3
   },
   "file_extension": ".py",
   "mimetype": "text/x-python",
   "name": "python",
   "nbconvert_exporter": "python",
   "pygments_lexer": "ipython3",
   "version": "3.8.5"
  }
 },
 "nbformat": 4,
 "nbformat_minor": 5
}
